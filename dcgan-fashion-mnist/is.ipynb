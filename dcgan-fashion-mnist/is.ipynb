{
 "cells": [
  {
   "cell_type": "markdown",
   "metadata": {},
   "source": [
    "# Inception Score"
   ]
  },
  {
   "cell_type": "code",
   "execution_count": 4,
   "metadata": {},
   "outputs": [],
   "source": [
    "import tensorflow as tf\n",
    "import numpy as np\n",
    "from scipy.stats import entropy\n",
    "from keras import models\n",
    "from keras.applications.inception_v3 import InceptionV3, preprocess_input"
   ]
  },
  {
   "cell_type": "code",
   "execution_count": 7,
   "metadata": {},
   "outputs": [],
   "source": [
    "def preprocess_images(images):\n",
    "    # Convert to float32 and rescale to [0, 255] range if needed\n",
    "    images = tf.image.resize(images, (299, 299))\n",
    "    images = tf.image.grayscale_to_rgb(images)  # Convert grayscale to RGB\n",
    "    images = preprocess_input(images)\n",
    "    return images\n",
    "\n",
    "def calculate_inception_score(images, n_split=10, eps=1E-16):\n",
    "    model = InceptionV3(include_top=False, pooling='avg', input_shape=(299, 299, 3))\n",
    "    images = preprocess_images(images)\n",
    "    preds = model.predict(images)\n",
    "    \n",
    "    scores = []\n",
    "    n_part = preds.shape[0] // n_split\n",
    "    for i in range(n_split):\n",
    "        part = preds[i * n_part:(i + 1) * n_part]\n",
    "        p_y = np.mean(part, axis=0)\n",
    "        \n",
    "        # Ensure no zero probabilities\n",
    "        p_y = np.clip(p_y, eps, 1 - eps)\n",
    "        \n",
    "        entropies = [entropy(p_y, np.clip(p, eps, 1 - eps)) for p in part]\n",
    "        scores.append(np.exp(np.mean(entropies)))\n",
    "    \n",
    "    return np.mean(scores), np.std(scores)"
   ]
  },
  {
   "cell_type": "code",
   "execution_count": 12,
   "metadata": {},
   "outputs": [
    {
     "name": "stderr",
     "output_type": "stream",
     "text": [
      "WARNING:absl:No training configuration found in the save file, so the model was *not* compiled. Compile it manually.\n"
     ]
    },
    {
     "name": "stdout",
     "output_type": "stream",
     "text": [
      "\u001b[1m32/32\u001b[0m \u001b[32m━━━━━━━━━━━━━━━━━━━━\u001b[0m\u001b[37m\u001b[0m \u001b[1m1s\u001b[0m 25ms/step\n"
     ]
    }
   ],
   "source": [
    "generator = models.load_model(\"generator/generator-fashion-mnist-hingeloss.h5\")\n",
    "\n",
    "num_images = 1000\n",
    "noise_dim = 100\n",
    "noise = np.random.normal(0, 1, (num_images, noise_dim))\n",
    "generated_images = generator.predict(noise)\n",
    "generated_images = (generated_images + 1) / 2.0  "
   ]
  },
  {
   "cell_type": "code",
   "execution_count": 13,
   "metadata": {},
   "outputs": [
    {
     "name": "stdout",
     "output_type": "stream",
     "text": [
      "\u001b[1m32/32\u001b[0m \u001b[32m━━━━━━━━━━━━━━━━━━━━\u001b[0m\u001b[37m\u001b[0m \u001b[1m75s\u001b[0m 2s/step\n",
      "Inception Score: 1.0491445064544678 ± 0.002100131241604686\n"
     ]
    }
   ],
   "source": [
    "mean_is, std_is = calculate_inception_score(generated_images)\n",
    "print(f\"Inception Score: {mean_is} ± {std_is}\")"
   ]
  },
  {
   "cell_type": "code",
   "execution_count": null,
   "metadata": {},
   "outputs": [],
   "source": []
  }
 ],
 "metadata": {
  "kernelspec": {
   "display_name": "myenv",
   "language": "python",
   "name": "python3"
  },
  "language_info": {
   "codemirror_mode": {
    "name": "ipython",
    "version": 3
   },
   "file_extension": ".py",
   "mimetype": "text/x-python",
   "name": "python",
   "nbconvert_exporter": "python",
   "pygments_lexer": "ipython3",
   "version": "3.9.19"
  }
 },
 "nbformat": 4,
 "nbformat_minor": 2
}
